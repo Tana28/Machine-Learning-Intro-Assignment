{
  "nbformat": 4,
  "nbformat_minor": 0,
  "metadata": {
    "colab": {
      "provenance": []
    },
    "kernelspec": {
      "name": "python3",
      "display_name": "Python 3"
    },
    "language_info": {
      "name": "python"
    }
  },
  "cells": [
    {
      "cell_type": "code",
      "execution_count": null,
      "metadata": {
        "id": "tSjsXbbzNV97"
      },
      "outputs": [],
      "source": []
    },
    {
      "cell_type": "markdown",
      "source": [
        "# Question 1: Explain the differences between AI, ML, Deep Learning (DL), and Data Science (DS)\n",
        "\n",
        "- **Artificial Intelligence (AI):** Broad field of computer science that makes machines perform tasks requiring human-like intelligence (e.g., reasoning, decision-making).  \n",
        "- **Machine Learning (ML):** A subset of AI where machines learn patterns from data and improve automatically.  \n",
        "- **Deep Learning (DL):** A subset of ML that uses multi-layered neural networks to process large and unstructured data (images, speech, text).  \n",
        "- **Data Science (DS):** Focuses on collecting, analyzing, and interpreting data to extract insights. It often uses AI and ML as tools.\n",
        "\n",
        "---\n",
        "\n",
        "### Quick Comparison\n",
        "\n",
        "| Term | Focus | Example |\n",
        "|------|-------|---------|\n",
        "| **AI** | Making machines intelligent | Self-driving car |\n",
        "| **ML** | Learning from data | Spam filter |\n",
        "| **DL** | Neural networks for complex data | Face recognition |\n",
        "| **DS** | Insights from data | Sales forecasting |\n"
      ],
      "metadata": {
        "id": "zGMhPsptNXB4"
      }
    },
    {
      "cell_type": "markdown",
      "source": [
        "# Question 2: What are the types of machine learning? Describe each with one real-world example.\n",
        "\n",
        "Machine Learning can be broadly divided into **three main types**:\n",
        "\n",
        "---\n",
        "\n",
        "### 1. Supervised Learning\n",
        "- **Definition:** The model learns from labeled data (input + correct output).  \n",
        "- **Goal:** Predict outcomes for new, unseen inputs.  \n",
        "- **Example:** Email spam detection (emails labeled as *spam* or *not spam*).\n",
        "\n",
        "---\n",
        "\n",
        "### 2. Unsupervised Learning\n",
        "- **Definition:** The model works with unlabeled data and finds hidden patterns or groupings.  \n",
        "- **Goal:** Discover structure in data without predefined labels.  \n",
        "- **Example:** Customer segmentation in marketing (grouping customers by behavior).\n",
        "\n",
        "---\n",
        "\n",
        "### 3. Reinforcement Learning\n",
        "- **Definition:** The model learns by interacting with an environment, receiving feedback in the form of rewards or penalties.  \n",
        "- **Goal:** Take actions that maximize long-term rewards.  \n",
        "- **Example:** Training robots or self-driving cars (learning by trial and error).\n",
        "\n",
        "---\n",
        "\n",
        "### Quick Summary\n",
        "\n",
        "| Type of ML | What it does | Example |\n",
        "|------------|--------------|---------|\n",
        "| **Supervised** | Learns from labeled data | Spam filter |\n",
        "| **Unsupervised** | Finds patterns in unlabeled data | Customer segmentation |\n",
        "| **Reinforcement** | Learns by rewards & penalties | Self-driving car |\n"
      ],
      "metadata": {
        "id": "fqLrnu7oOCWi"
      }
    },
    {
      "cell_type": "markdown",
      "source": [
        "# Question 3: Define overfitting, underfitting, and the bias-variance tradeoff in machine learning.\n",
        "\n",
        "### Overfitting\n",
        "- **Definition:** When a model learns the training data *too well*, including noise and irrelevant details.  \n",
        "- **Result:** High accuracy on training data but poor performance on unseen/test data.  \n",
        "- **Example:** A model memorizing past exam answers instead of understanding the concepts.\n",
        "\n",
        "---\n",
        "\n",
        "### Underfitting\n",
        "- **Definition:** When a model is *too simple* and fails to capture important patterns in the data.  \n",
        "- **Result:** Poor performance on both training and test data.  \n",
        "- **Example:** Using a straight line to fit complex, curved data.\n",
        "\n",
        "---\n",
        "\n",
        "### Bias-Variance Tradeoff\n",
        "- **Bias:** Error due to oversimplified assumptions in the model → leads to underfitting.  \n",
        "- **Variance:** Error due to too much sensitivity to training data → leads to overfitting.  \n",
        "- **Tradeoff:** The goal is to find a balance where the model generalizes well, not too simple (high bias) and not too complex (high variance).\n",
        "\n",
        "---\n",
        "\n",
        "### Quick Summary\n",
        "\n",
        "| Concept | Meaning | Effect |\n",
        "|---------|---------|--------|\n",
        "| **Overfitting** | Model too complex, memorizes data | High training accuracy, poor test accuracy |\n",
        "| **Underfitting** | Model too simple, misses patterns | Poor accuracy overall |\n",
        "| **Bias-Variance Tradeoff** | Balance between underfitting & overfitting | Good generalization |\n"
      ],
      "metadata": {
        "id": "X22eYGcOlCc5"
      }
    },
    {
      "cell_type": "markdown",
      "source": [
        "# Question 4: What are outliers in a dataset, and list three common techniques for handling them.\n",
        "\n",
        "### Outliers\n",
        "- **Definition:** Outliers are data points that differ significantly from the majority of the dataset.  \n",
        "- They can occur due to measurement errors, data entry mistakes, or genuine rare events.  \n",
        "- **Effect:** Outliers can skew results, reduce model accuracy, and mislead analysis.\n",
        "\n",
        "---\n",
        "\n",
        "### Common Techniques to Handle Outliers\n",
        "\n",
        "1. **Removal of Outliers**  \n",
        "   - Delete outlier records if they are errors or irrelevant.  \n",
        "   - Example: Dropping age = 200 in a human dataset.\n",
        "\n",
        "2. **Transformation (Scaling/Log Transformation)**  \n",
        "   - Apply mathematical transformations to reduce the impact of extreme values.  \n",
        "   - Example: Using log transformation on income data.\n",
        "\n",
        "3. **Imputation (Capping/Replacement)**  \n",
        "   - Replace outliers with a statistical measure such as the mean, median, or use percentile-based capping.  \n",
        "   - Example: Replacing extreme salaries with the 95th percentile value.\n",
        "\n",
        "---\n",
        "\n",
        "### Quick Summary\n",
        "\n",
        "| Method | What it does | Example |\n",
        "|--------|--------------|---------|\n",
        "| **Removal** | Drops outliers from dataset | Age = 200 dropped |\n",
        "| **Transformation** | Reduces impact using scaling/log | Log of income |\n",
        "| **Imputation** | Replace with mean/median/percentiles | Salary capped at 95th percentile |\n"
      ],
      "metadata": {
        "id": "_TQA7rIblNPc"
      }
    },
    {
      "cell_type": "markdown",
      "source": [
        "# Question 5: Explain the process of handling missing values and mention one imputation technique for numerical and one for categorical data.\n",
        "\n",
        "### Handling Missing Values\n",
        "Missing values occur when some data entries are not recorded. They can reduce model accuracy if not handled properly.  \n",
        "The process generally involves:\n",
        "1. **Identifying** missing values in the dataset.  \n",
        "2. **Deciding** whether to remove or fill them.  \n",
        "3. **Applying** an appropriate method (deletion, imputation, or advanced techniques).\n",
        "\n",
        "---\n",
        "\n",
        "### Imputation Techniques\n",
        "- **Numerical Data:** Replace missing values with the **mean or median** of the column.  \n",
        "  *Example:* Filling missing ages with the median age.  \n",
        "\n",
        "- **Categorical Data:** Replace missing values with the **mode** (most frequent category).  \n",
        "  *Example:* Filling missing \"Gender\" entries with the most common gender.  \n",
        "\n",
        "---\n",
        "\n",
        "### Quick Summary\n",
        "\n",
        "| Data Type | Technique | Example |\n",
        "|-----------|-----------|---------|\n",
        "| **Numerical** | Mean/Median Imputation | Replace missing age with median age |\n",
        "| **Categorical** | Mode Imputation | Replace missing gender with most frequent value |\n"
      ],
      "metadata": {
        "id": "1Rz1fY_OlTNm"
      }
    },
    {
      "cell_type": "code",
      "source": [
        "# Question 6: Create a synthetic imbalanced dataset and print class distribution\n",
        "\n",
        "from sklearn.datasets import make_classification\n",
        "from collections import Counter\n",
        "\n",
        "# Create imbalanced dataset\n",
        "X, y = make_classification(\n",
        "    n_samples=1000,\n",
        "    n_features=10,\n",
        "    n_informative=5,\n",
        "    n_redundant=2,\n",
        "    n_clusters_per_class=1,\n",
        "    weights=[0.9, 0.1],\n",
        "    random_state=42\n",
        ")\n",
        "\n",
        "# Convert labels to Python int for cleaner output\n",
        "y = y.astype(int)\n",
        "\n",
        "# Print class distribution\n",
        "print(\"Class distribution:\", Counter(y))\n",
        "\n"
      ],
      "metadata": {
        "colab": {
          "base_uri": "https://localhost:8080/"
        },
        "id": "pZ4gpFnPn3vW",
        "outputId": "f5ccdabe-130c-4061-d1f9-e0183cae3405"
      },
      "execution_count": 3,
      "outputs": [
        {
          "output_type": "stream",
          "name": "stdout",
          "text": [
            "Class distribution: Counter({np.int64(0): 896, np.int64(1): 104})\n"
          ]
        }
      ]
    },
    {
      "cell_type": "code",
      "source": [
        "# Question 7: One-hot encoding using pandas\n",
        "\n",
        "import pandas as pd\n",
        "\n",
        "# Input list of colors\n",
        "colors = ['Red', 'Green', 'Blue', 'Green', 'Red']\n",
        "\n",
        "# Create DataFrame\n",
        "df = pd.DataFrame({'Color': colors})\n",
        "\n",
        "# Apply one-hot encoding\n",
        "one_hot = pd.get_dummies(df['Color'])\n",
        "\n",
        "# Print the resulting DataFrame\n",
        "print(one_hot)\n"
      ],
      "metadata": {
        "colab": {
          "base_uri": "https://localhost:8080/"
        },
        "id": "Cs-L27Z0n7ob",
        "outputId": "661e0246-1d09-4d47-d974-72f81140fcbd"
      },
      "execution_count": 4,
      "outputs": [
        {
          "output_type": "stream",
          "name": "stdout",
          "text": [
            "    Blue  Green    Red\n",
            "0  False  False   True\n",
            "1  False   True  False\n",
            "2   True  False  False\n",
            "3  False   True  False\n",
            "4  False  False   True\n"
          ]
        }
      ]
    },
    {
      "cell_type": "code",
      "source": [
        "# Question 8: Handling missing values and histogram plotting\n",
        "\n",
        "import numpy as np\n",
        "import pandas as pd\n",
        "import matplotlib.pyplot as plt\n",
        "\n",
        "# Step 1: Generate 1000 samples from a normal distribution\n",
        "data = np.random.randn(1000)   # mean=0, std=1, size=1000\n",
        "df = pd.DataFrame(data, columns=[\"Value\"])\n",
        "\n",
        "# Step 2: Introduce 50 random missing values\n",
        "missing_indices = np.random.choice(df.index, 50, replace=False)\n",
        "df.loc[missing_indices, \"Value\"] = np.nan\n",
        "\n",
        "# Step 3: Fill missing values with the column mean (safe way, no warning)\n",
        "df_imputed = df.copy()\n",
        "df_imputed[\"Value\"] = df_imputed[\"Value\"].fillna(df[\"Value\"].mean())\n",
        "\n",
        "# Step 4: Plot histogram before and after imputation\n",
        "plt.figure(figsize=(12,5))\n",
        "\n",
        "# Before imputation\n",
        "plt.subplot(1,2,1)\n",
        "plt.hist(df[\"Value\"], bins=30, edgecolor=\"black\")\n",
        "plt.title(\"Before Imputation (with Missing Values)\")\n",
        "\n",
        "# After imputation\n",
        "plt.subplot(1,2,2)\n",
        "plt.hist(df_imputed[\"Value\"], bins=30, edgecolor=\"black\")\n",
        "plt.title(\"After Imputation (Missing Values Filled)\")\n",
        "\n",
        "plt.tight_layout()\n",
        "plt.show()\n"
      ],
      "metadata": {
        "colab": {
          "base_uri": "https://localhost:8080/",
          "height": 507
        },
        "id": "CVjNzatooUVP",
        "outputId": "ad4aa9b2-97a4-40da-8741-e8fed779c52b"
      },
      "execution_count": 6,
      "outputs": [
        {
          "output_type": "display_data",
          "data": {
            "text/plain": [
              "<Figure size 1200x500 with 2 Axes>"
            ],
            "image/png": "[encoded data removed]"
          },
          "metadata": {}
        }
      ]
    },
    {
      "cell_type": "code",
      "source": [
        "# Question 9: Min-Max scaling using sklearn\n",
        "\n",
        "from sklearn.preprocessing import MinMaxScaler\n",
        "import numpy as np\n",
        "\n",
        "# Input data\n",
        "data = np.array([2, 5, 10, 15, 20]).reshape(-1, 1)\n",
        "\n",
        "# Apply Min-Max Scaling\n",
        "scaler = MinMaxScaler()\n",
        "scaled_data = scaler.fit_transform(data)\n",
        "\n",
        "# Print the scaled array\n",
        "print(\"Original Data:\\n\", data.flatten())\n",
        "print(\"Scaled Data:\\n\", scaled_data.flatten())\n"
      ],
      "metadata": {
        "colab": {
          "base_uri": "https://localhost:8080/"
        },
        "id": "vlh9BrgpolUD",
        "outputId": "57b02bfc-c342-484d-e65a-17d5a5c5705e"
      },
      "execution_count": 7,
      "outputs": [
        {
          "output_type": "stream",
          "name": "stdout",
          "text": [
            "Original Data:\n",
            " [ 2  5 10 15 20]\n",
            "Scaled Data:\n",
            " [0.         0.16666667 0.44444444 0.72222222 1.        ]\n"
          ]
        }
      ]
    },
    {
      "cell_type": "code",
      "source": [
        "# Question 10: Data preparation plan for retail transaction dataset\n",
        "\n",
        "import pandas as pd\n",
        "import numpy as np\n",
        "from sklearn.impute import SimpleImputer\n",
        "from sklearn.preprocessing import OneHotEncoder\n",
        "from imblearn.over_sampling import SMOTE\n",
        "from collections import Counter\n",
        "\n",
        "# --- Step 0: Create a sample dataset ---\n",
        "data = {\n",
        "    \"Age\": [25, np.nan, 35, 40, np.nan, 28],\n",
        "    \"TransactionAmount\": [100, 5000, 200, 150, 120, 8000],  # outliers exist\n",
        "    \"PaymentMethod\": [\"Card\", \"Cash\", \"Card\", \"UPI\", \"Cash\", \"UPI\"],\n",
        "    \"Fraud\": [0, 0, 0, 1, 0, 1]  # imbalanced\n",
        "}\n",
        "df = pd.DataFrame(data)\n",
        "print(\"Original Data:\\n\", df)\n",
        "\n",
        "# --- Step 1: Handle missing values (impute Age with median) ---\n",
        "imputer = SimpleImputer(strategy=\"median\")\n",
        "df[\"Age\"] = imputer.fit_transform(df[[\"Age\"]])\n",
        "\n",
        "# --- Step 2: Handle outliers in TransactionAmount using IQR (capping) ---\n",
        "Q1 = df[\"TransactionAmount\"].quantile(0.25)\n",
        "Q3 = df[\"TransactionAmount\"].quantile(0.75)\n",
        "IQR = Q3 - Q1\n",
        "lower_bound = Q1 - 1.5 * IQR\n",
        "upper_bound = Q3 + 1.5 * IQR\n",
        "df[\"TransactionAmount\"] = np.where(df[\"TransactionAmount\"] > upper_bound, upper_bound,\n",
        "                                   np.where(df[\"TransactionAmount\"] < lower_bound, lower_bound, df[\"TransactionAmount\"]))\n",
        "\n",
        "# --- Step 3: Encode categorical variable (PaymentMethod) with One-Hot Encoding ---\n",
        "encoder = OneHotEncoder(sparse_output=False, drop=\"first\")\n",
        "encoded = encoder.fit_transform(df[[\"PaymentMethod\"]])\n",
        "encoded_df = pd.DataFrame(encoded, columns=encoder.get_feature_names_out([\"PaymentMethod\"]))\n",
        "df = pd.concat([df.drop(\"PaymentMethod\", axis=1).reset_index(drop=True),\n",
        "                encoded_df.reset_index(drop=True)], axis=1)\n",
        "\n",
        "# --- Step 4: Handle class imbalance using SMOTE (with fewer neighbors due to small dataset) ---\n",
        "X = df.drop(\"Fraud\", axis=1)\n",
        "y = df[\"Fraud\"]\n",
        "\n",
        "print(\"\\nClass distribution before SMOTE:\", Counter(y))\n",
        "sm = SMOTE(random_state=42, k_neighbors=1)  # Fix: use k_neighbors=1\n",
        "X_res, y_res = sm.fit_resample(X, y)\n",
        "print(\"Class distribution after SMOTE:\", Counter(y_res))\n",
        "\n",
        "# --- Final Prepared Dataset ---\n",
        "final_df = pd.concat([X_res, y_res], axis=1)\n",
        "print(\"\\nFinal Preprocessed Dataset:\\n\", final_df)\n"
      ],
      "metadata": {
        "colab": {
          "base_uri": "https://localhost:8080/"
        },
        "id": "m8EsBTe0pPP1",
        "outputId": "cfc9229e-eeb5-4323-e42b-1da7d24c2307"
      },
      "execution_count": 11,
      "outputs": [
        {
          "output_type": "stream",
          "name": "stdout",
          "text": [
            "Original Data:\n",
            "     Age  TransactionAmount PaymentMethod  Fraud\n",
            "0  25.0                100          Card      0\n",
            "1   NaN               5000          Cash      0\n",
            "2  35.0                200          Card      0\n",
            "3  40.0                150           UPI      1\n",
            "4   NaN                120          Cash      0\n",
            "5  28.0               8000           UPI      1\n",
            "\n",
            "Class distribution before SMOTE: Counter({0: 4, 1: 2})\n",
            "Class distribution after SMOTE: Counter({0: 4, 1: 4})\n",
            "\n",
            "Final Preprocessed Dataset:\n",
            "          Age  TransactionAmount  PaymentMethod_Cash  PaymentMethod_UPI  Fraud\n",
            "0  25.000000         100.000000                 0.0                0.0      0\n",
            "1  31.500000        5000.000000                 1.0                0.0      0\n",
            "2  35.000000         200.000000                 0.0                0.0      0\n",
            "3  40.000000         150.000000                 0.0                1.0      1\n",
            "4  31.500000         120.000000                 1.0                0.0      0\n",
            "5  28.000000        8000.000000                 0.0                1.0      1\n",
            "6  28.591428        7613.107305                 0.0                1.0      1\n",
            "7  36.783927        2253.847557                 0.0                1.0      1\n"
          ]
        }
      ]
    }
  ]
}